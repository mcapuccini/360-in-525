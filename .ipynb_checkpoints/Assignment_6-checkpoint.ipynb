{
 "cells": [
  {
   "cell_type": "markdown",
   "metadata": {},
   "source": [
    "## Assignment 6\n",
    "### Coalescent simulator"
   ]
  },
  {
   "cell_type": "code",
   "execution_count": 2,
   "metadata": {},
   "outputs": [
    {
     "name": "stdout",
     "output_type": "stream",
     "text": [
      "[1, 2, 3, 4, 5]\n",
      "[3, 4, 5, [1, 2]]\n",
      "[3, [1, 2], [4, 5]]\n",
      "[3, [1, 2, 4, 5]]\n",
      "[[1, 2, 3, 4, 5]]\n"
     ]
    }
   ],
   "source": [
    "import random\n",
    "import collections\n",
    "\n",
    "# Define a function to flatten an irregular list\n",
    "def flatten(l):\n",
    "   for el in l:\n",
    "    if isinstance(el, collections.Iterable) and not isinstance(el, (str, bytes)):\n",
    "      yield from flatten(el)\n",
    "    else:\n",
    "      yield el\n",
    "\n",
    "# Init initial labels\n",
    "current = [1,2,3,4,5]\n",
    "print(current)\n",
    "\n",
    "while(len(current) > 1):\n",
    "  sampled = random.sample(current,2) # Sample 2 elements\n",
    "  coalesced = sorted(flatten(sampled)) # Merge and sort sampled elements\n",
    "  current = [i for i in current if i not in sampled] # Remove sampled\n",
    "  current.append(coalesced) # Append coalesced elements to current labels\n",
    "  print(current)"
   ]
  },
  {
   "cell_type": "code",
   "execution_count": null,
   "metadata": {},
   "outputs": [],
   "source": []
  }
 ],
 "metadata": {
  "kernelspec": {
   "display_name": "Python 3",
   "language": "python",
   "name": "python3"
  },
  "language_info": {
   "codemirror_mode": {
    "name": "ipython",
    "version": 3
   },
   "file_extension": ".py",
   "mimetype": "text/x-python",
   "name": "python",
   "nbconvert_exporter": "python",
   "pygments_lexer": "ipython3",
   "version": "3.6.6"
  }
 },
 "nbformat": 4,
 "nbformat_minor": 2
}
