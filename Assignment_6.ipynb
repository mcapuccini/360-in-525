{
 "cells": [
  {
   "cell_type": "markdown",
   "metadata": {},
   "source": [
    "## Assignment 6\n",
    "### Coalescent simulator"
   ]
  },
  {
   "cell_type": "code",
   "execution_count": 14,
   "metadata": {
    "collapsed": false
   },
   "outputs": [
    {
     "data": {
      "text/plain": [
       "[[0, 0], [1, 0], [1, 0], [1, 1], [1, 0]]"
      ]
     },
     "execution_count": 14,
     "metadata": {},
     "output_type": "execute_result"
    }
   ],
   "source": [
    "# Start by creating a random initial population\n",
    "size = 5\n",
    "pop0 = [[floor(random()+1/2) for i in range(2)] for i in range(size)]\n",
    "pop0"
   ]
  },
  {
   "cell_type": "code",
   "execution_count": 24,
   "metadata": {
    "collapsed": false
   },
   "outputs": [
    {
     "name": "stdout",
     "output_type": "stream",
     "text": [
      "[[1, 1], [1, 0], [0, 1], [0, 0], [0, 0]]\n",
      "[[0, 0], [0, 1], [1, 1], [1, 1], [0, 1]]\n",
      "[[1, 1], [0, 0], [1, 1], [0, 0], [0, 1]]\n",
      "[[1, 0], [0, 0], [1, 1], [1, 0], [1, 0]]\n",
      "[[0, 1], [1, 0], [0, 1], [1, 0], [1, 0]]\n",
      "[[0, 0], [0, 1], [1, 0], [1, 0], [1, 1]]\n",
      "[[0, 1], [0, 1], [0, 0], [1, 0], [0, 1]]\n",
      "[[0, 1], [1, 0], [0, 1], [1, 0], [0, 1]]\n",
      "[[1, 1], [1, 0], [1, 0], [0, 0], [0, 1]]\n",
      "[[0, 1], [0, 1], [1, 1], [1, 1], [1, 1]]\n"
     ]
    }
   ],
   "source": [
    "# Simulate N generations\n",
    "N = 10\n",
    "prevPop = pop0\n",
    "for i in range(N):\n",
    "    pop = [sample(flatten(prevPop),2) for i in range(size)]\n",
    "    prevPop = pop\n",
    "    print pop"
   ]
  }
 ],
 "metadata": {
  "kernelspec": {
   "display_name": "SageMath 8.0",
   "language": "",
   "name": "sagemath"
  },
  "language_info": {
   "codemirror_mode": {
    "name": "ipython",
    "version": 2
   },
   "file_extension": ".py",
   "mimetype": "text/x-python",
   "name": "python",
   "nbconvert_exporter": "python",
   "pygments_lexer": "ipython2",
   "version": "2.7.13"
  }
 },
 "nbformat": 4,
 "nbformat_minor": 2
}
