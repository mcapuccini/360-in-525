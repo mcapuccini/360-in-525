{
 "cells": [
  {
   "cell_type": "markdown",
   "metadata": {},
   "source": [
    "## Assignment 5\n",
    "Consider the Markov chain describing the mode of transport used by a lazy professor. He has only two modes of transport, namely Walk or Drive. Label Walk by  0  and Drive by  1 . If he walks today then he will definitely drive tomorrow. But, if he drives today then he flips a fair coin to decide whether he will Walk or Drive tomorrow. His decision to get to work is the same on each day. In the cells below try to:\n",
    "\n",
    "- Find the flow diagram\n",
    "- Find and assign the transition probability matrix for this Markov chain"
   ]
  },
  {
   "cell_type": "code",
   "execution_count": 3,
   "metadata": {
    "collapsed": false
   },
   "outputs": [
    {
     "data": {
      "image/png": "[encoded data removed]",
      "text/plain": [
       "Graphics object consisting of 10 graphics primitives"
      ]
     },
     "metadata": {},
     "output_type": "display_data"
    }
   ],
   "source": [
    "P = matrix([[0,1],[1/2,1/2]])  # <-- Transistion probablity matrix\n",
    "p = DiGraph(P,format=\"weighted_adjacency_matrix\")\n",
    "pos_dict={}\n",
    "pos_dict[0] = [1,1]\n",
    "pos_dict[1] = [3,1]\n",
    "p.plot(edge_labels=True,pos=pos_dict,vertex_size=300).show()"
   ]
  },
  {
   "cell_type": "markdown",
   "metadata": {},
   "source": [
    "- Find the probability that he will drive on the  n-th day given he will walk today (day  0 )"
   ]
  },
  {
   "cell_type": "code",
   "execution_count": 7,
   "metadata": {
    "collapsed": false
   },
   "outputs": [
    {
     "data": {
      "text/plain": [
       "(11/32, 21/32)"
      ]
     },
     "execution_count": 7,
     "metadata": {},
     "output_type": "execute_result"
    }
   ],
   "source": [
    "n = 5 # Using 5 as an example to test the code\n",
    "p0 = vector((0,1)) \n",
    "p0 * P^n        "
   ]
  },
  {
   "cell_type": "markdown",
   "metadata": {},
   "source": [
    "- What is the steady state probability vector for this chain?"
   ]
  },
  {
   "cell_type": "code",
   "execution_count": 8,
   "metadata": {
    "collapsed": false
   },
   "outputs": [
    {
     "data": {
      "text/plain": [
       "[[s0 == (1/3), s1 == (2/3)]]"
      ]
     },
     "execution_count": 8,
     "metadata": {},
     "output_type": "execute_result"
    }
   ],
   "source": [
    "P = matrix(RR,[[0,1],[1/2,1/2]]); P; P.parent()\n",
    "I = matrix(2,2,1); I; I.parent()\n",
    "P-I; (P-I).parent()\n",
    "s0, s1 = var('s0, s1')\n",
    "eqs = vector((s0,s1)) * (P-I); eqs[0]; eqs[1]\n",
    "solve([eqs[0] == 0, eqs[1]==0, s0+s1==1], s0,s1)"
   ]
  }
 ],
 "metadata": {
  "kernelspec": {
   "display_name": "SageMath 8.0",
   "language": "",
   "name": "sagemath"
  },
  "language_info": {
   "codemirror_mode": {
    "name": "ipython",
    "version": 2
   },
   "file_extension": ".py",
   "mimetype": "text/x-python",
   "name": "python",
   "nbconvert_exporter": "python",
   "pygments_lexer": "ipython2",
   "version": "2.7.13"
  }
 },
 "nbformat": 4,
 "nbformat_minor": 2
}
