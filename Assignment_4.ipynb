{
 "cells": [
  {
   "cell_type": "markdown",
   "metadata": {},
   "source": [
    "# Drunkard's walk"
   ]
  },
  {
   "cell_type": "code",
   "execution_count": 6,
   "metadata": {},
   "outputs": [
    {
     "name": "stdout",
     "output_type": "stream",
     "text": [
      "[(0, 0), (-1, 0), (-2, 0), (-1, 0), (-1, -1), (-1, -2), (-2, -2), (-2, -1), (-1, -1), (0, -1), (0, 0)]\n"
     ]
    },
    {
     "data": {
      "image/png": "[encoded data removed]",
      "text/plain": [
       "Graphics object consisting of 1 graphics primitive"
      ]
     },
     "metadata": {},
     "output_type": "display_data"
    }
   ],
   "source": [
    "from pylab import cumsum, array\n",
    "\n",
    "def makeLeftTurnPoint(listOfPoints):\n",
    "    '''Function to make a point representing the destination of a left turn from the current path.\n",
    "    \n",
    "    Param listOfPoints is a list of tuples representing the path so far.\n",
    "    Returns a new point to the immediate left of the last point in listOfPoints.\n",
    "\n",
    "    Tuples in the list represent points in 2d space.\n",
    "    The destination of a left turn is a tuple representing a point which on a 2d axis would\n",
    "       be to the immediate left of the last point in the list representing the current path.'''\n",
    "    newPoint = (0,0)  # a default return value\n",
    "    if len(listOfPoints) > 0:  # check there is at least one point in the list\n",
    "        lastPoint_x, lastPoint_y = listOfPoints[len(listOfPoints)-1]  # unpack the last point in the list\n",
    "        new_x = lastPoint_x - 1  # a new x coordinate, one unit to the left of the last one in the list\n",
    "        newPoint = (new_x, lastPoint_y)  # a new point one unit to the left of the last one in the list\n",
    "    return newPoint\n",
    "\n",
    "\n",
    "def  makeRightTurnPoint(listOfPoints):\n",
    "    '''Function to make a point representing the destination of a right turn from the current path.\n",
    "    \n",
    "    Param listOfPoints is a list of tuples representing the path so far.\n",
    "    Returns a new point to the immediate right of the last point in listOfPoints.\n",
    "\n",
    "    Tuples in the list represent points in 2d space.\n",
    "    The destination of a right turn is a tuple representing a point which on a 2d axis would\n",
    "       be to the immediate right of the last point in the list representing the current path.'''\n",
    "    \n",
    "    newPoint = (0,0)  # a default return value\n",
    "    if len(listOfPoints) > 0:  # check there is a least one point in the list\n",
    "        lastPoint_x, lastPoint_y = listOfPoints[len(listOfPoints)-1]  # the last point in the list\n",
    "        new_x = lastPoint_x + 1  # a new x coordinate one unit to the right of the last one in the list\n",
    "        newPoint = (new_x, lastPoint_y) # a new point one unit to the right of the last one in the list\n",
    "    return newPoint\n",
    "\n",
    "def  makeUpTurnPoint(listOfPoints):\n",
    "    newPoint = (0,0)   \n",
    "    if len(listOfPoints) > 0:   \n",
    "        lastPoint_x, lastPoint_y = listOfPoints[len(listOfPoints)-1]   \n",
    "        new_y = lastPoint_y + 1  # a new x coordinate one unit to the right of the last one in the list\n",
    "        newPoint = (lastPoint_x, new_y) # a new point one unit to the right of the last one in the list\n",
    "    return newPoint\n",
    "\n",
    "def  makeDownTurnPoint(listOfPoints):\n",
    "    newPoint = (0,0)  # a default return value\n",
    "    if len(listOfPoints) > 0:  # check there is a least one point in the list\n",
    "        lastPoint_x, lastPoint_y = listOfPoints[len(listOfPoints)-1]  # the last point in the list\n",
    "        new_y = lastPoint_y - 1  # a new x coordinate one unit to the right of the last one in the list\n",
    "        newPoint = (lastPoint_x, new_y) # a new point one unit to the right of the last one in the list\n",
    "    return newPoint\n",
    "\n",
    "def linePlotter(listOfPoints):\n",
    "    '''Function to plot a list of points as a lines between the points.\n",
    "    \n",
    "    Param listOfPoints is the list of points to plot lines between.'''\n",
    "    \n",
    "    l = line(listOfPoints)\n",
    "    show(l)\n",
    "    \n",
    "startingPoint = (0,0)\n",
    "drunkardsPath = [startingPoint] # start list with starting point tuple\n",
    "n = 10\n",
    "pUp, pDown, pLeft, pRight = 0.25, 0.25, 0.25, 0.25 # assign some probabilities to left, up, down\n",
    "probs = [pUp, pDown, pLeft, pRight] # list of probabilities left and right only so far\n",
    "movementFunctions = [makeUpTurnPoint, makeDownTurnPoint, makeLeftTurnPoint, makeRightTurnPoint] # list of corresponding movement functions\n",
    "cumProbs = cumsum(probs).tolist() # cumulative probabilities\n",
    "prns = [random() for i in range(n)] # pseudo-random Uniform(0,1) samples\n",
    "for u in prns:                        # for each pseudo-random u\n",
    "    for i in range(len(cumProbs)):    # for each cumulative direction probability\n",
    "        if (u < cumProbs[i]):         # check if u is less than this direction cumulative probability\n",
    "            pointToAdd = movementFunctions[i](drunkardsPath)  # if so, find new point to go to\n",
    "            drunkardsPath.append(pointToAdd)                  # add it to the path\n",
    "            break    # the break statement breaks out of a loop, in the case out of the for-loop\n",
    "print(drunkardsPath)\n",
    "# out of both loops, have a path, so plot it            \n",
    "linePlotter(drunkardsPath)"
   ]
  }
 ],
 "metadata": {
  "kernelspec": {
   "display_name": "SageMath 8.2",
   "language": "",
   "name": "sagemath"
  },
  "language_info": {
   "codemirror_mode": {
    "name": "ipython",
    "version": 2
   },
   "file_extension": ".py",
   "mimetype": "text/x-python",
   "name": "python",
   "nbconvert_exporter": "python",
   "pygments_lexer": "ipython2",
   "version": "2.7.14"
  }
 },
 "nbformat": 4,
 "nbformat_minor": 2
}
